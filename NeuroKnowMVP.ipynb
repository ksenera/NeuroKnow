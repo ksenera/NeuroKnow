{
 "cells": [
  {
   "cell_type": "code",
   "execution_count": null,
   "id": "147e20c0",
   "metadata": {},
   "outputs": [],
   "source": [
    "class NeuroKnowEngine:\n",
    "    def __init__(self):\n",
    "        self.neuro_profile = {}\n",
    "        # add error logging db "
   ]
  },
  {
   "cell_type": "markdown",
   "id": "268db78b",
   "metadata": {},
   "source": [
    "## mvp core engine has a database for error logging for pattern recognition "
   ]
  }
 ],
 "metadata": {
  "language_info": {
   "name": "python"
  }
 },
 "nbformat": 4,
 "nbformat_minor": 5
}
